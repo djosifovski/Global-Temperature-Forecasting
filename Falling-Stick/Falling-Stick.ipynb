{
 "cells": [
  {
   "cell_type": "markdown",
   "metadata": {},
   "source": [
    "# Falling stick\n",
    "\n",
    "## Derivation of the Lagrangian\n",
    "\n",
    "In this script we investigate how long it take for a stick to fall down. The free body diagram of the system is shown on the image bellow.\n",
    "\n",
    "<img src=\"falling_stick.png\" width=\"300\" align=\"center\"/>\n",
    "\n",
    "We begin with deriving the Lagrangian of the system.\n",
    "\n",
    "The moment of inertia of a stick rotated about the end is:\n",
    "\n",
    "$ I = \\frac{1}{3}mL^{2} $\n",
    "\n",
    "The kinetic energy of the system is:\n",
    "\n",
    "$ K = \\frac{1}{2}I_{c}\\omega^{2} + \\frac{1}{2}mv_{c}^{\\phantom{0}2} = \\frac{1}{2}\\left(\\frac{1}{3}mL^{2}\\right)\\omega^{2} = \\frac{1}{6}mL^{2}\\omega^{2} $\n",
    "\n",
    "The potential energy of the system is:\n",
    "\n",
    "$ P = mgy_{c} = mg\\frac{L}{2}(1 - cos\\theta) $\n",
    "\n",
    "The Lagrangian of the system is:\n",
    "\n",
    "$ L = K - P = \\frac{1}{6}mL^{2}\\omega^{2} - mg\\frac{L}{2}(1 - cos\\theta) $\n",
    "\n",
    "From here, we can obtain the angular acceleration of the falling stick:\n",
    "\n",
    "$ \\frac{d}{dt}\\left(\\frac{\\partial L}{\\partial \\dot{\\theta}}\\right) - \\frac{\\partial L}{\\partial \\theta} = 0 $\n",
    "\n",
    "$ \\frac{1}{3}mL^{2}\\ddot{\\theta} - mg\\frac{L}{2}sin\\theta = 0 $\n",
    "\n",
    "$ \\alpha = \\ddot{\\theta} = \\frac{3}{2}\\frac{g}{L}sin\\theta $\n",
    "\n",
    "## Numerical computation\n",
    "\n",
    "From this relation, using the Euler method we can numerically calculate the time for the stick to fall down. The algorithm is the following:\n",
    "\n",
    "$ \\alpha = \\frac{3}{2}\\frac{g}{L}sin\\theta $\n",
    "\n",
    "$ \\omega_{2} = \\omega_{1} + \\alpha\\Delta t $\n",
    "\n",
    "$ \\theta_{2} = \\theta_{1} + \\omega\\Delta t $\n",
    "\n",
    "$ t_{2} = t_{1} + \\Delta t $\n",
    "\n",
    "In the system the length of the stick is 0.15 m, and that is the only property of the stick that is relevant for the calculation. From the derivation above, we can conclude that the calculation is independant of the mass of the stick.\n",
    "\n",
    "The initial angle of the stick with respect to the vertical axis is 0.1 rad, the gravitational acceleration is 9.81 m/s$^{2}$, and the step is 0.001."
   ]
  },
  {
   "cell_type": "code",
   "execution_count": 1,
   "metadata": {},
   "outputs": [],
   "source": [
    "import numpy as np\n",
    "import pandas as pd"
   ]
  },
  {
   "cell_type": "code",
   "execution_count": 2,
   "metadata": {},
   "outputs": [
    {
     "name": "stdout",
     "output_type": "stream",
     "text": [
      "Time to fall down = 0.35 sec\n"
     ]
    }
   ],
   "source": [
    "g = 9.81\n",
    "L = 0.15\n",
    "\n",
    "theta = 0.1\n",
    "omega = 0\n",
    "t = 0\n",
    "dt = 0.001\n",
    "\n",
    "while theta < np.pi/2:\n",
    "    alpha = (3/2) * (g/L) * np.sin(theta)\n",
    "    omega = omega + alpha * dt\n",
    "    theta = theta + omega * dt\n",
    "    t = t + dt\n",
    "print(f\"Time to fall down = {t:.2f} sec\")"
   ]
  },
  {
   "cell_type": "markdown",
   "metadata": {},
   "source": [
    "## Experiment\n",
    "\n",
    "To experimentally check the numerically obtained result, the time to fall of a pen that is long 15 cm is measured."
   ]
  },
  {
   "cell_type": "code",
   "execution_count": 3,
   "metadata": {},
   "outputs": [],
   "source": [
    "time = [0.40, 0.34, 0.39, 0.33, 0.33, 0.34, 0.33, 0.39, 0.39, 0.33]\n",
    "\n",
    "time = pd.DataFrame({'Time':time})\n",
    "#time.head()"
   ]
  },
  {
   "cell_type": "code",
   "execution_count": 9,
   "metadata": {},
   "outputs": [
    {
     "data": {
      "image/png": "[encoded data removed]",
      "text/plain": [
       "<Figure size 432x288 with 1 Axes>"
      ]
     },
     "metadata": {
      "needs_background": "light"
     },
     "output_type": "display_data"
    }
   ],
   "source": [
    "time.hist()\n",
    "from matplotlib.pyplot import show"
   ]
  },
  {
   "cell_type": "code",
   "execution_count": null,
   "metadata": {},
   "outputs": [],
   "source": [
    "t_average = time.mean()\n",
    "t_average"
   ]
  },
  {
   "cell_type": "markdown",
   "metadata": {},
   "source": [
    "We can conclude that the simulation agrees with the data.\n",
    "\n",
    "**References:**\n",
    "- https://www.google.com/search?q=falling+rod&rlz=1C1CHBF_enMK852MK852&sxsrf=ALeKk018EIlNQDnsZVFRWi_RtcptmIuXDA:1594769099609&source=lnms&tbm=isch&sa=X&ved=2ahUKEwj397jt8c3qAhVQfZoKHVvnCocQ_AUoAXoECAsQAw&biw=1536&bih=722#imgrc=UVD50EH4WRSxbM (last accessed: 14 July 2020)\n",
    "- https://www.youtube.com/watch?v=nwYNFBdRGR4&list=PLlc57LLE08wIEAaxo8HxOe6E8GTkCFFqc&index=10&t=608s (last accessed: 14 July 2020)"
   ]
  }
 ],
 "metadata": {
  "kernelspec": {
   "display_name": "Python 3",
   "language": "python",
   "name": "python3"
  },
  "language_info": {
   "codemirror_mode": {
    "name": "ipython",
    "version": 3
   },
   "file_extension": ".py",
   "mimetype": "text/x-python",
   "name": "python",
   "nbconvert_exporter": "python",
   "pygments_lexer": "ipython3",
   "version": "3.8.8"
  }
 },
 "nbformat": 4,
 "nbformat_minor": 4
}
